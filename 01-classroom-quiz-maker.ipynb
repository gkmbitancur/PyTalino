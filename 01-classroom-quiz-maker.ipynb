{
 "cells": [
  {
   "cell_type": "markdown",
   "id": "41f416a2",
   "metadata": {},
   "source": [
    "# 01-classroom-quiz-maker.ipynb  \n",
    "**Bersyon 1.0 – Abril 2025**  \n",
    "*Mini-Project: Classroom Quiz Maker*"
   ]
  },
  {
   "cell_type": "markdown",
   "id": "f99f1585",
   "metadata": {},
   "source": [
    "[![Open in Colab](https://colab.research.google.com/assets/colab-badge.svg)](https://colab.research.google.com/github/gkmbitancur/PyTalino/blob/main/01-classroom-quiz-maker.ipynb?copy=true)  \n",
    "[![Launch in Binder](https://mybinder.org/badge_logo.svg)](https://mybinder.org/v2/gh/gkmbitancur/PyTalino/main?filepath=01-classroom-quiz-maker.ipynb)\n"
   ]
  },
  {
   "cell_type": "code",
   "execution_count": null,
   "id": "d370cbe1",
   "metadata": {
    "vscode": {
     "languageId": "plaintext"
    }
   },
   "outputs": [],
   "source": [
    "# Simple test cell\n",
    "print(\"✅ 01-classroom-quiz-maker.ipynb loaded successfully!\")\n"
   ]
  },
  {
   "cell_type": "markdown",
   "id": "9ea1946e",
   "metadata": {},
   "source": [
    "## Hakbang 1: Paglikha ng Mga Tanong  \n",
    "(Dito ilalagay ang unang hakbang ng quiz maker tutorial.)"
   ]
  }
 ],
 "metadata": {
  "language_info": {
   "name": "python"
  }
 },
 "nbformat": 4,
 "nbformat_minor": 5
}
