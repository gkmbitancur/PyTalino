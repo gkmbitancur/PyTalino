{
 "cells": [
  {
   "cell_type": "markdown",
   "id": "notebook-title-01",
   "metadata": {},
   "source": [
    "# 01-classroom-quiz-maker.ipynb\n",
    "**Bersyon 1.0 – Mayo 2024**\n",
    "*Proyekto: Paggawa ng Simpleng Quiz Application*"
   ]
  },
  {
   "cell_type": "markdown",
   "id": "badges-01",
   "metadata": {},
   "source": [
    "[![Open in Colab](https://colab.research.google.com/assets/colab-badge.svg)](https://colab.research.google.com/github/gkmbitancur/PyTalino/blob/main/01-classroom-quiz-maker.ipynb?copy=true)  \n",
    "[![Launch in Binder](https://mybinder.org/badge_logo.svg)](https://mybinder.org/v2/gh/gkmbitancur/PyTalino/main?filepath=01-classroom-quiz-maker.ipynb)"
   ]
  },
  {
   "cell_type": "code",
   "execution_count": null,
   "id": "initial-test-01",
   "metadata": {},
   "outputs": [],
   "source": [
    "# Simple test cell para ma-check kung loaded ang notebook\n",
    "print(\"✅ 01-classroom-quiz-maker.ipynb loaded successfully!\")"
   ]
  },
  {
   "cell_type": "markdown",
   "id": "panimula-quiz",
   "metadata": {},
   "source": [
    "## 1. Panimula: Paggawa ng Quiz Application\n",
    "\n",
    "**Layunin ng Aktibidad:**\n",
    "\n",
    "Sa modyul na ito, gagawa tayo ng isang simpleng programa sa Python na gumagawa ng quiz. Sa pamamagitan ng gawaing ito, matututuhan natin kung paano:\n",
    "\n",
    "*   Gumamit ng `input()` para sa pagkuha ng sagot ng user.\n",
    "*   Gumamit ng `if-else` statements upang suriin kung tama ang sagot.\n",
    "*   Mag-assign at mag-update ng mga variable (tulad ng `score`).\n",
    "*   Magpakita ng resulta sa malinaw at maayos na paraan.\n",
    "*   (Opsyonal na susunod na hakbang): I-refactor ang code gamit ang mga listahan at `for` loops para sa mas maraming tanong.\n",
    "\n",
    "Ang proyektong ito ay isang praktikal na pagsasanay sa *control flow* (paano tumatakbo ang program), *user interaction* (pakikipag-ugnayan sa gagamit), at *modular thinking* (pag-iisip kung paano hahatiin ang problema sa mas maliliit na bahagi) sa programming."
   ]
  },
  {
   "cell_type": "markdown",
   "id": "workshop-intro-quiz",
   "metadata": {},
   "source": [
    "## 2. Workshop: Pagsasanay sa mga Natutunan\n",
    "\n",
    "Sa bahaging ito, masusubok ang iyong kakayahan sa pamamagitan ng paggawa ng **Quiz Maker** gamit ang Python.\n",
    "\n",
    "Sa gagawin mong quiz, inaasahan na:\n",
    "\n",
    "*   Maia-apply mo ang mga konsepto na natutunan mula sa `00-python-basics.ipynb` (variables, input, if-else, print).\n",
    "*   Ie-edit mo ang *quiz stub* (paunang code) sa ibaba at magdaragdag ka ng sarili mong mga tanong at mga tamang sagot.\n",
    "*   Mako-compute mo nang tama ang iskor ng user at ipapakita ito sa dulo ng programa.\n",
    "\n",
    "Narito ang *quiz stub* na maaari mong i-edit at dagdagan:"
   ]
  },
  {
   "cell_type": "code",
   "execution_count": null,
   "id": "workshop-code-quiz",
   "metadata": {},
   "outputs": [],
   "source": [
    "# Simulan ang paggawa ng iyong mga tanong at tamang sagot dito!\n",
    "score = 0\n",
    "total_items = 0 # Sisimulan natin sa 0, at dadagdagan para sa bawat tanong\n",
    "\n",
    "print(\"🎉 Welcome sa PyTalino Quiz Maker! 🎉\")\n",
    "print(\"-------------------------------------\")\n",
    "\n",
    "# Tanong 1: Ikaw ang gagawa ng tanong at sagot!\n",
    "total_items += 1 \n",
    "ans1 = input(f\"{total_items}) [Isulat ang iyong unang tanong dito] \\nSagot mo: \")\n",
    "# Palitan ang \"[ilagay_ang_tamang_sagot_dito]\" ng aktwal na sagot para sa Tanong 1.\n",
    "# Gumamit ng .lower() kung ang sagot ay hindi case-sensitive (e.g., \"Manila\" o \"manila\" ay parehong tama).\n",
    "if ans1.lower() == \"[ilagay_ang_tamang_sagot_dito_para_sa_tanong_1]\": \n",
    "    print(\"✔️ Tama!\")\n",
    "    score += 1\n",
    "else:\n",
    "    # Palitan din ito para ipakita ang tamang sagot.\n",
    "    print(f\"❌ Mali. Ang tamang sagot ay '[ilagay_ang_tamang_sagot_dito_para_sa_tanong_1]'.\") \n",
    "print() # Maglagay ng blankong linya\n",
    "\n",
    "# Tanong 2: Ikaw ulit ang gagawa!\n",
    "total_items += 1\n",
    "ans2 = input(f\"{total_items}) [Isulat ang iyong pangalawang tanong dito] \\nSagot mo: \")\n",
    "# Tandaan: Kung ang inaasahang sagot ay numero, ihambing pa rin ito bilang string (e.g., if ans2 == \"12\":)\n",
    "# dahil ang input() ay laging nagbabalik ng string.\n",
    "if ans2.lower() == \"[ilagay_ang_tamang_sagot_dito_para_sa_tanong_2]\": \n",
    "    print(\"✔️ Tama!\")\n",
    "    score += 1\n",
    "else:\n",
    "    print(f\"❌ Mali. Ang tamang sagot ay '[ilagay_ang_tamang_sagot_dito_para_sa_tanong_2]'.\")\n",
    "print()\n",
    "\n",
    "# ---- Dagdagan mo pa! ----\n",
    "# Magdagdag ka pa ng 3 hanggang 5 (o higit pa!) na tanong.\n",
    "# Para sa bawat tanong:\n",
    "# 1. Kopyahin ang block ng code para sa isang tanong (mula `total_items += 1` hanggang `print()`).\n",
    "# 2. Palitan ang numero ng variable ng tanong (e.g., ans3, ans4).\n",
    "# 3. Palitan ang text ng tanong sa `input()`.\n",
    "# 4. Palitan ang kondisyon sa `if` statement para sa tamang sagot.\n",
    "# 5. Siguraduhing tama ang mensahe para sa maling sagot.\n",
    "\n",
    "# Halimbawa ng Dagdag na Tanong (template lang, ikaw ang magpupuno):\n",
    "# total_items += 1\n",
    "# ans3 = input(f\"{total_items}) [Isulat ang iyong pangatlong tanong dito] \\nSagot mo: \")\n",
    "# if ans3.lower() == \"[ilagay_ang_tamang_sagot_dito_para_sa_tanong_3]\":\n",
    "#     print(\"✔️ Tama!\")\n",
    "#     score += 1\n",
    "# else:\n",
    "#     print(f\"❌ Mali. Ang tamang sagot ay '[ilagay_ang_tamang_sagot_dito_para_sa_tanong_3]'.\")\n",
    "# print()\n",
    "\n",
    "# --- Pagpapakita ng Iskor --- \n",
    "print(\"-------------------------------------\")\n",
    "print(\"🏁 Tapos na ang Quiz! 🏁\")\n",
    "\n",
    "if total_items > 0: # Para maiwasan ang error kung sakaling walang tanong\n",
    "    print(f\"Ang iyong nakuha ay: {score} tamang sagot mula sa {total_items} na tanong.\")\n",
    "    porsyento = (score / total_items) * 100\n",
    "    print(f\"Ang katumbas nitong porsyento ay: {porsyento:.2f}%\") # Ang ':.2f' ay para i-display ang numero na may 2 decimal places\n",
    "    \n",
    "    # Magbigay ng mensahe base sa porsyento\n",
    "    if porsyento == 100:\n",
    "        print(\"🏆 Napakagaling! Perfect score!\")\n",
    "    elif porsyento >= 75:\n",
    "        print(\"👍 Magaling! Mataas ang nakuha mo!\")\n",
    "    elif porsyento >= 50:\n",
    "        print(\"🙂 Okay lang, pwede pang pagbutihin!\")\n",
    "    else:\n",
    "        print(\"💪 Huwag sumuko, subok lang ulit! Practice pa more!\")\n",
    "else:\n",
    "    print(\"Mukhang wala pang tanong ang quiz na ito. Subukang magdagdag!\")"
   ]
  },
  {
   "cell_type": "markdown",
   "id": "workshop-score-explanation",
   "metadata": {},
   "source": [
    "Sa dulong bahagi ng code, makikita ang pagpapakita ng iskor. Gumamit tayo ng `print()` para ipakita ang bilang ng tamang sagot at ang kabuuang bilang ng tanong.\n",
    "\n",
    "Ang linya para sa porsyento:\n",
    "```python\n",
    "porsyento = (score / total_items) * 100\n",
    "print(f\"Ang katumbas nitong porsyento ay: {porsyento:.2f}%\")\n",
    "```\n",
    "ay kumukwenta ng porsyento at ipinapakita ito na may dalawang decimal places (`:.2f`). Ang `f-string` (formatted string literal) na nagsisimula sa `f\"...\"` ay isang madaling paraan para isama ang halaga ng mga variable (tulad ng `porsyento`) sa loob ng isang string."
   ]
  },
  {
   "cell_type": "markdown",
   "id": "ebalwasyon-quiz",
   "metadata": {},
   "source": [
    "## 3. Ebalwasyon ng Iyong Gawa\n",
    "\n",
    "Para sa pagsusuri at pagmamarka ng iyong ginawang Quiz Maker, mangyaring sumangguni sa `rubric_template.md` na file. Ito ay matatagpuan sa `templates` folder ng PyTalino project.\n",
    "\n",
    "Ang iyong guro ay gagamit ng rubric na iyon para bigyan ka ng grado at feedback.\n",
    "\n",
    "**Mahalagang Tandaan:**\n",
    "Ang pinakamahalaga ay ang iyong natutunan habang ginagawa ang proyektong ito. Huwag matakot magkamali! Ang mga error ay bahagi ng proseso ng pag-aaral ng programming. Subukan mong i-debug (hanapin at ayusin) ang anumang error na makikita mo. Malaking tulong din ang pagbabasa ng mga error message na ipinapakita ng Python."
   ]
  },
  {
   "cell_type": "markdown",
   "id": "pangwakas-quiz",
   "metadata": {},
   "source": [
    "## 4. Pangwakas: Maraming Salamat!\n",
    "\n",
    "🎉 Binabati kita sa pagkumpleto ng Quiz Maker project! 🎉\n",
    "\n",
    "Maraming salamat sa iyong interes at pakikilahok sa PyTalino toolkit. Sana ay marami kang natutunan at nag-enjoy ka sa paggawa ng sarili mong quiz application.\n",
    "\n",
    "Tandaan na ang pag-aaral ng programming ay isang tuluy-tuloy na paglalakbay. Huwag kang hihinto sa pag-eexplore at pagsubok ng mga bagong bagay!\n",
    "\n",
    "Para mas mapabuti pa namin ang PyTalino at ang mga susunod naming proyekto, lubos naming ikagagalak kung masasagutan mo ang aming feedback form. Ang link para dito ay maaaring ibigay ng iyong guro o makikita sa main project page ng PyTalino.\n",
    "\n",
    "**Happy Coding at Padayon sa iyong pag-aaral!** 🇵🇭💻"
   ]
  }
 ],
 "metadata": {
  "kernelspec": {
   "display_name": "Python 3 (ipykernel)",
   "language": "python",
   "name": "python3"
  },
  "language_info": {
   "codemirror_mode": {
    "name": "ipython",
    "version": 3
   },
   "file_extension": ".py",
   "mimetype": "text/x-python",
   "name": "python",
   "nbconvert_exporter": "python",
   "pygments_lexer": "ipython3",
   "version": "3.9.7"
  }
 },
 "nbformat": 4,
 "nbformat_minor": 5
}
