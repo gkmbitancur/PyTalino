{
  "cells": [
    {
      "cell_type": "markdown",
      "id": "f3457613",
      "metadata": {
        "id": "f3457613"
      },
      "source": [
        "# Gabay sa Python (Lite) — Notebook 00\n",
        "**Pangkat Bitancur · Mercado · Tolentino**  \n",
        "**Bersyon 1.0 (2025-05-08)**  \n",
        "**Lisensiya: CC BY-SA 4.0**  \n",
        "*Pag-set-up at Mga Batayang Konsepto*"
      ]
    },
    {
      "cell_type": "markdown",
      "id": "37827a6b",
      "metadata": {
        "id": "37827a6b"
      },
      "source": [
        "[![Open in Colab](https://colab.research.google.com/assets/colab-badge.svg)](https://colab.research.google.com/github/gkmbitancur/PyTalino/blob/main/00-python-basics.ipynb?copy=true)  \n",
        "[![Launch in Binder](https://mybinder.org/badge_logo.svg)](https://mybinder.org/v2/gh/gkmbitancur/PyTalino/main?filepath=00-python-basics.ipynb)  \n",
        "\n",
        "**Tip: Sa Binder, piliin ang *File ▸ Save a Copy* bago mag-edit**"
      ]
    },
    {
      "cell_type": "markdown",
      "id": "panimula",
      "metadata": {
        "id": "panimula"
      },
      "source": [
        "## Panimula\n",
        "\n",
        "### Kamusta! 👋\n",
        "\n",
        "Interesado ka ba sa *coding*? Halina't mag-aral ng Python! Sa tulong ng *Toolkit Guide* na ito, aalamin natin ang mga pangunahing kaalaman na kakailanganin natin sa Python.\n",
        "\n",
        "### Matututuhan mo sa notebook na ito:\n",
        "1. mag-print ng mensahe\n",
        "2. gumamit ng *variables*\n",
        "3. kumuha ng input mula sa user\n",
        "4. gumawa ng *if-else* na desisyon\n",
        "5. gumamit ng `for` loop\n",
        "6. magsagawa ng mini self-check\n",
        "\n",
        "### Legend ng simbolo:\n",
        "- 📝 Basahin - mga bahaging kailangang basahin at unawain\n",
        "- ▶️ Patakbuhin - mga halimbawang linya ng code na dapat i-run (i-press ang Shift+Enter)\n",
        "- 💪 Subukan - mga exercises na dapat subukan"
      ]
    },
    {
      "cell_type": "code",
      "execution_count": null,
      "id": "a299935b",
      "metadata": {
        "id": "a299935b"
      },
      "outputs": [],
      "source": [
        "# Patakbuhin ang code cell na ito upang malaman kung handa na\n",
        "print(\"✅ Handa na akong mag-Python!\")"
      ]
    },
    {
      "cell_type": "markdown",
      "id": "print-section",
      "metadata": {
        "id": "print-section"
      },
      "source": [
        "## 1. Pag-print ng Unang Mensahe\n",
        "\n",
        "📝 **Ano ang `print()` function?**  \n",
        "Ang `print()` function ng Python ay ginagamit upang ilagay sa screen ang mga salita o datos. Malaking tulong ito sa pagpapakita ng mga impormasyon na gusto mong makita.\n",
        "\n",
        "Upang makapag-print ng isang bagay, sumusunod ang function na ito sa format na `print(argumento)`, kung saan ang `print` ay ang command o taga-utos, at ang nasa loob ng panaklong ay ang datos o argumento na gusto mong ipakita."
      ]
    },
    {
      "cell_type": "code",
      "execution_count": null,
      "id": "print-example",
      "metadata": {
        "id": "print-example"
      },
      "outputs": [],
      "source": [
        "# ▶️ Patakbuhin mo ang code cell na ito (Shift+Enter)\n",
        "print(\"Hello, Mundo!\")"
      ]
    },
    {
      "cell_type": "markdown",
      "id": "print-explanation",
      "metadata": {
        "id": "print-explanation"
      },
      "source": [
        "### Pag-print ng iba't ibang datos\n",
        "\n",
        "Pwede rin tayong mag-print ng iba't ibang uri ng datos:\n",
        "- Teksto (string) - nakapaloob sa mga panipi (`\"` o `'`)\n",
        "- Mga numero - direktang inilalagay bilang argumento\n",
        "- Variables - mga pangalan ng lalagyan ng datos\n",
        "\n",
        "Maaari ring pagsamahin ang mga ito sa pamamagitan ng paggamit ng `+` o `,` sa gitna ng mga argumento:"
      ]
    },
    {
      "cell_type": "code",
      "execution_count": null,
      "id": "print-multiple",
      "metadata": {
        "id": "print-multiple"
      },
      "outputs": [],
      "source": [
        "# ▶️ Pag-print ng iba't ibang uri ng datos\n",
        "print(\"Hello!\")  # Text/String\n",
        "print(42)  # Numero\n",
        "\n",
        "# Paggamit ng \",\" sa gitna ng mga arguments\n",
        "print(\"Edad ko:\", 15)\n",
        "\n",
        "# Paggamit ng \"+\" para pagsamahin ang mga text\n",
        "print(\"Mag\" + \"anda\" + \"ng\" + \" \" + \"araw!\")\n",
        "\n",
        "# Pagsama ng \"+\" at \",\"\n",
        "print(\"Ang kabuuang halaga:\", 10 + 5)"
      ]
    },
    {
      "cell_type": "markdown",
      "id": "print-additional",
      "metadata": {
        "id": "print-additional"
      },
      "source": [
        "📝 **Kaibahan ng `,` at `+`**\n",
        "- Ang paggamit ng `,` sa gitna ay maglalagay ng **espasyo** sa pagitan ng mga arguments\n",
        "- Ang `+` ay direktang **ipagdidikit** ang mga arguments\n",
        "\n",
        "💪 **Subukan mo!**  \n",
        "I-edit ang code sa ibaba at tingnan ang mangyayari:"
      ]
    },
    {
      "cell_type": "code",
      "execution_count": null,
      "id": "print-exercise",
      "metadata": {
        "id": "print-exercise"
      },
      "outputs": [],
      "source": [
        "# 💪 Subukan mong mag-print ng iyong pangalan at edad\n",
        "# Halimbawa: \"Ako si Juan at ako ay 14 taong gulang.\"\n",
        "\n",
        "# I-type ang iyong code dito:\n"
      ]
    },
    {
      "cell_type": "markdown",
      "id": "operators-section",
      "metadata": {
        "id": "operators-section"
      },
      "source": [
        "## 2. Mga Operator\n",
        "\n",
        "📝 **Matematika + Kompyuter**  \n",
        "Ang interpreter ng Python ay maaaring gamitin bilang isang calculator. Maglagay lamang ng operasyon na gusto mong itumbas, at magbabalik ito ng sagot.\n",
        "\n",
        "### Mga Pangunahing Operator sa Python:\n",
        "\n",
        "| Operator | Pangalan | Halimbawa | Resulta |\n",
        "| :---: | :--- | :--- | :--- |\n",
        "| `+` | Addition (Pagdagdag) | `5 + 3` | `8` |\n",
        "| `-` | Subtraction (Pagbawas) | `5 - 3` | `2` |\n",
        "| `*` | Multiplication (Pagmultiplika) | `5 * 3` | `15` |\n",
        "| `/` | Division (Paghahati) | `5 / 3` | `1.6666...` |\n",
        "| `**` | Exponentiation (Eksponente) | `5 ** 3` | `125` |\n",
        "| `//` | Floor Division (Paghahating Buong Bilang) | `5 // 3` | `1` |\n",
        "| `%` | Modulo (Remainder/Natira) | `5 % 3` | `2` |\n",
        "| `()` | Grouping Symbols (Pangelompon) | `(5 + 3) * 2` | `16` |"
      ]
    },
    {
      "cell_type": "code",
      "execution_count": null,
      "id": "operator-examples",
      "metadata": {
        "id": "operator-examples"
      },
      "outputs": [],
      "source": [
        "# ▶️ Mga halimbawa ng mathematical operations\n",
        "print(\"Pagdagdag (Addition):\", 10 + 5)  # = 15\n",
        "print(\"Pagbawas (Subtraction):\", 10 - 5)  # = 5\n",
        "print(\"Pagmultiplika (Multiplication):\", 10 * 5)  # = 50\n",
        "print(\"Paghahati (Division):\", 10 / 5)  # = 2.0 (palaging float ang resulta ng division)\n",
        "print(\"Eksponente (Exponentiation):\", 10 ** 2)  # = 100 (10 squared)\n",
        "print(\"Floor Division:\", 10 // 3)  # = 3 (buong bilang lang, walang decimal)\n",
        "print(\"Modulo (Remainder):\", 10 % 3)  # = 1 (natira pagkatapos hatiin ang 10 sa 3)\n",
        "\n",
        "# Multiple operations\n",
        "print(\"\\nMultiple operations:\", (10 + 5) * 2)  # = 30\n",
        "print(\"Ibang order ng operation:\", 10 + 5 * 2)  # = 20 (multiplikasyon muna, bago ang adisyon)"
      ]
    },
    {
      "cell_type": "markdown",
      "id": "pemdas-explanation",
      "metadata": {
        "id": "pemdas-explanation"
      },
      "source": [
        "📝 **Order of Operations (PEMDAS)**  \n",
        "Katulad ng sa Math class, sumusunod rin ang Python sa PEMDAS:\n",
        "1. **P**arentheses - `()`\n",
        "2. **E**xponents - `**`\n",
        "3. **M**ultiplication at **D**ivision - `*`, `/`, `//`, `%`\n",
        "4. **A**ddition at **S**ubtraction - `+`, `-`\n",
        "\n",
        "💪 **Subukan gamitin ang Python bilang calculator!**  "
      ]
    },
    {
      "cell_type": "code",
      "execution_count": null,
      "id": "calculator-exercise",
      "metadata": {
        "id": "calculator-exercise"
      },
      "outputs": [],
      "source": [
        "# 💪 Subukang gumawa ng computation para malaman:\n",
        "# 1. Ilang segundo ang 3 oras? (1 oras = 60 minuto, 1 minuto = 60 segundo)\n",
        "# 2. Kung ang isang tao ay 14 na taong gulang, ilang araw na siya nabubuhay? (isipin na mayroong 365 na araw sa isang taon)\n",
        "# 3. Isang number na mahahati mismo sa 7 at 5\n",
        "\n",
        "# I-type ang iyong code dito:\n"
      ]
    },
    {
      "cell_type": "markdown",
      "id": "string-operations",
      "metadata": {
        "id": "string-operations"
      },
      "source": [
        "### Bonus: Operators sa String (Text)\n",
        "\n",
        "Pwede rin gamitin ang ilang operators sa mga text o strings:"
      ]
    },
    {
      "cell_type": "code",
      "execution_count": null,
      "id": "string-operator-examples",
      "metadata": {
        "id": "string-operator-examples"
      },
      "outputs": [],
      "source": [
        "# ▶️ Paggamit ng operators sa string\n",
        "\n",
        "# Concatenation (pagdurugtong) gamit ang +\n",
        "first_name = \"Juan\"\n",
        "last_name = \"Dela Cruz\"\n",
        "full_name = first_name + \" \" + last_name\n",
        "print(\"Full name:\", full_name)\n",
        "\n",
        "# Repetition gamit ang *\n",
        "cheer = \"Go! \"\n",
        "print(cheer * 3)  # Equivalent to: \"Go! Go! Go! \"\n",
        "\n",
        "# Hindi mo pwedeng pagsamahin (gamit ang +) ang string at number\n",
        "age = 14\n",
        "# print(\"Ako ay \" + age)  # Ito ay magbibigay ng error!\n",
        "\n",
        "# Ang tamang paraan ay i-convert muna ang number sa string bago i-run\n",
        "print(\"Ako ay \" + str(age) + \" taong gulang.\")"
      ]
    },
    {
      "cell_type": "markdown",
      "id": "data-types-section",
      "metadata": {
        "id": "data-types-section"
      },
      "source": [
        "## 3. Mga Uri ng Datos\n",
        "\n",
        "📝 **Ano-ano nga ba ang pwedeng gamiting datos?**  \n",
        "Sa Python, may iba't ibang uri ng datos na pwede nating gamitin. Ang tatlong pangunahing uri ay ang:\n",
        "\n",
        "1. **Integer (`int`)** - Mga buong bilang tulad ng `-5`, `0`, `42`\n",
        "2. **Float (`float`)** - Mga bilang na may desimal tulad ng `3.14`, `-0.5`, `2.0`\n",
        "3. **String (`str`)** - Mga teksto na nakapaloob sa panipi tulad ng `\"Hello\"`, `'Juan'`"
      ]
    },
    {
      "cell_type": "code",
      "execution_count": null,
      "id": "data-types-example",
      "metadata": {
        "id": "data-types-example"
      },
      "outputs": [],
      "source": [
        "# ▶️ Alamin ang uri ng datos gamit ang type() function\n",
        "\n",
        "# Integer (int) - buong bilang\n",
        "edad = 15\n",
        "print(\"Edad:\", edad)\n",
        "print(\"Uri ng datos:\", type(edad))\n",
        "\n",
        "# Float - bilang na may desimal\n",
        "temperatura = 36.5\n",
        "print(\"\\Temperatura:\", temperatura)\n",
        "print(\"Uri ng datos:\", type(temperatura))\n",
        "\n",
        "# String (str) - text\n",
        "pangalan = \"Maria\"\n",
        "print(\"\\nPangalan:\", pangalan)\n",
        "print(\"Uri ng datos:\", type(pangalan))\n",
        "\n",
        "# Pansinin na ang numero sa loob ng panipi ay string, hindi numero\n",
        "string_na_numero = \"42\"\n",
        "print(\"\\nString na numero:\", string_na_numero)\n",
        "print(\"Uri ng datos:\", type(string_na_numero))"
      ]
    },
    {
      "cell_type": "markdown",
      "id": "data-conversion",
      "metadata": {
        "id": "data-conversion"
      },
      "source": [
        "### Pag-convert ng Datos sa Ibang Uri\n",
        "\n",
        "Minsan kailangan din nating baguhin ang uri ng datos. Pwede nating gamitin ang mga functions na `int()`, `float()`, at `str()`:"
      ]
    },
    {
      "cell_type": "code",
      "execution_count": null,
      "id": "conversion-example",
      "metadata": {
        "id": "conversion-example"
      },
      "outputs": [],
      "source": [
        "# ▶️ Conversion ng data types\n",
        "\n",
        "# String → integer\n",
        "string_na_numero = \"25\"\n",
        "numero = int(string_na_numero)\n",
        "print(\"String to integer:\", string_na_numero, \"→\", numero)\n",
        "print(\"Resulta ng pagdagdag ng 5:\", numero + 5)  # Ngayon pwede na natin ito gamitin sa math!\n",
        "\n",
        "# Integer → string\n",
        "edad = 16\n",
        "edad_str = str(edad)\n",
        "print(\"\\nInteger to string:\", edad, \"→\", edad_str)\n",
        "print(\"Resulta ng concatenation:\", \"Ako ay \" + edad_str + \" taong gulang.\")  # Pwede na i-concatenate\n",
        "\n",
        "# Float → integer (nawawala ang desimal)\n",
        "tangkad = 162.5\n",
        "tangkad_int = int(tangkad)\n",
        "print(\"\\nFloat to integer:\", tangkad, \"→\", tangkad_int)  # Mapapansin na natanggal ang .5\n",
        "\n",
        "# Integer → float\n",
        "bilang = 7\n",
        "bilang_float = float(bilang)\n",
        "print(\"\\nInteger to float:\", bilang, \"→\", bilang_float)  # Nagdagdag ng .0"
      ]
    },
    {
      "cell_type": "markdown",
      "id": "conversion-warning",
      "metadata": {
        "id": "conversion-warning"
      },
      "source": [
        "⚠️ **Mga Paalala sa Conversion:**\n",
        "- Hindi lahat ng string ay pwedeng i-convert sa `int` o `float`. Halimbawa, ang `int(\"hello\")` ay magbibigay ng error.\n",
        "- Kapag nag-convert mula `float` to `int`, mawawala lamang desimal.\n",
        "\n",
        "💪 **Subukan mo!**"
      ]
    },
    {
      "cell_type": "code",
      "execution_count": null,
      "id": "conversion-exercise",
      "metadata": {
        "id": "conversion-exercise"
      },
      "outputs": [],
      "source": [
        "# 💪 Subukang mag-convert ng data types\n",
        "# 1. Gumawa ng code na kukuha ng edad sa taon at i-convert ito sa mga buwan\n",
        "# 2. Gumawa ng code na kukuha ng temperatura sa Celsius at i-convert ito sa Fahrenheit\n",
        "#    Formula: F = (C * 9/5) + 32\n",
        "\n",
        "# I-type ang iyong code dito:\n"
      ]
    },
    {
      "cell_type": "markdown",
      "id": "other-data-types",
      "metadata": {
        "id": "other-data-types"
      },
      "source": [
        "### Iba pang Uri ng Datos\n",
        "\n",
        "Bukod sa `int`, `float`, at `str`, mayroon pang ibang uri ng datos sa Python tulad ng:\n",
        "\n",
        "1. **Boolean (`bool`)** - `True` o `False` lang\n",
        "2. **None** - nangangahulugang walang value\n",
        "\n",
        "Pag-aaralan natin ang mga ito sa mga susunod na bahagi."
      ]
    },
    {
      "cell_type": "markdown",
      "id": "variables-section",
      "metadata": {
        "id": "variables-section"
      },
      "source": [
        "## 4. Mga Variable\n",
        "\n",
        "📝 **Ano ang variable?**  \n",
        "Ang variable ay parang lalagyan ng impormasyon sa kompyuter. Pwede mo itong pangalanan at bigyan ng halaga para gamitin sa iba't ibang bahagi ng program.\n",
        "\n",
        "📝 **Bakit ito mahalaga?**  \n",
        "Ginagamit natin ang mga variable upang mag-imbak ng impormasyon na maaaring gamitin o baguhin habang tumatakbo ang program. Napapadali nito ang paggawa ng flexible na code."
      ]
    },
    {
      "cell_type": "code",
      "execution_count": null,
      "id": "variable-example",
      "metadata": {
        "id": "variable-example"
      },
      "outputs": [],
      "source": [
        "# ▶️ Paggamit ng variables\n",
        "\n",
        "# Pag-assign ng value sa variable\n",
        "pangalan = \"Juan\"\n",
        "edad = 15\n",
        "nakuhang_marka = 92.5\n",
        "passed = True\n",
        "\n",
        "# Pag-gamit ng variables\n",
        "print(\"Pangalan:\", pangalan)\n",
        "print(\"Edad:\", edad)\n",
        "print(\"Nakuhang Marka:\", nakuhang_marka)\n",
        "print(\"Passed:\", passed)"
      ]
    },
    {
      "cell_type": "markdown",
      "id": "variable-rules",
      "metadata": {
        "id": "variable-rules"
      },
      "source": [
        "### Mga Patakaran sa Pagpangalan ng Variables\n",
        "\n",
        "1. Pwedeng gamitin ang mga **letra** (a-z, A-Z), **numero** (0-9), at **underscore** (_).\n",
        "2. **HINDI** pwedeng magsimula sa numero (mali: `1name`, tama: `name1`).\n",
        "3. **HINDI** pwedeng gumamit ng spaces o special characters tulad ng `@`, `#`, `%`, etc.\n",
        "4. **Case-sensitive** ang Python (magkaiba ang `name`, `Name`, at `NAME`).\n",
        "5. Iwasan ang paggamit ng **reserved keywords** tulad ng `if`, `for`, `while`, etc.\n",
        "\n",
        "#### Mga Halimbawa ng Pwedeng Pangalan ng Variables:\n",
        "- `pangalan`, `gitnang_inisyal`, `apelyido`\n",
        "- `edad`, `taon`, `tangkad`\n",
        "- `estudyante`, `nakapasa_ba`, `pwedeng_bumoto`\n",
        "\n",
        "📝 **Tips:** Gawing deskriptibo ang pangalan ng variables para maintindihan mo kaagad kung ano ang laman nito."
      ]
    },
    {
      "cell_type": "code",
      "execution_count": null,
      "id": "variable-operations",
      "metadata": {
        "id": "variable-operations"
      },
      "outputs": [],
      "source": [
        "# ▶️ Mga operasyon sa variables\n",
        "\n",
        "# Pag-update ng value ng variable\n",
        "iskor = 0\n",
        "print(\"Paunang iskor:\", iskor)\n",
        "\n",
        "# Pag-dagdag ng value\n",
        "iskor = iskor + 5\n",
        "print(\"Pagkatapos magdagdag ng 5:\", iskor)\n",
        "\n",
        "# Shortcut para sa pag-update (compound assignment)\n",
        "iskor += 10  # Katumbas ng: iskor = iskor + 10\n",
        "print(\"Pagkatapos dagdagan ng 10:\", iskor)\n",
        "\n",
        "# Iba pang compound assignments\n",
        "iskor -= 3  # Katumbas ng: iskor = iskor - 3\n",
        "print(\"Pagkatapos bawasan ng 3:\", iskor)\n",
        "\n",
        "iskor *= 2  # Katumbas ng: iskor = iskor * 2\n",
        "print(\"After multiplying by 2:\", iskor)"
      ]
    },
    {
      "cell_type": "markdown",
      "id": "variable-exercise",
      "metadata": {
        "id": "variable-exercise"
      },
      "source": [
        "### 💪 Subukan mo!\n",
        "\n",
        "Gumawa ng program na kinakalkula ang BMI (Body Mass Index). Ang formula ay:\n",
        "\n",
        "BMI = timbang (kg) / (taas (m))²\n",
        "\n",
        "Halimbawa, kung ang timbang ay 60 kg at ang katangkaran ay 1.65 m, ang BMI ay 60 / (1.65 * 1.65) = 22.04"
      ]
    },
    {
      "cell_type": "code",
      "execution_count": null,
      "id": "bmi-exercise",
      "metadata": {
        "id": "bmi-exercise"
      },
      "outputs": [],
      "source": [
        "# 💪 Gumawa ng BMI calculator gamit ang variables\n",
        "# 1. Gumawa ng variables para sa timbang at katangkaran\n",
        "# 2. Kalkulahin ang BMI gamit ang formula\n",
        "# 3. I-print ang resulta\n",
        "\n",
        "# I-type ang iyong code dito:\n"
      ]
    },
    {
      "cell_type": "markdown",
      "id": "input-section",
      "metadata": {
        "id": "input-section"
      },
      "source": [
        "## 5. Pagkuha ng Input\n",
        "\n",
        "📝 **input() Function**  \n",
        "Ginagamit ang `input()` para humingi ng impormasyon mula sa user. Kapag tinawag ang function na ito, maghihintay ang program hanggang mag-type ang user ng kanyang ilalagay at pindutin ng Enter.\n",
        "\n",
        "📝 **Bakit ito mahalaga?**  \n",
        "Nakikipag-ugnayan ang isang programa sa user sa pamamagitan ng input. Sa tulong ng `input()`, nagiging interactive ang mga program na ating ginagawa."
      ]
    },
    {
      "cell_type": "code",
      "execution_count": null,
      "id": "input-example",
      "metadata": {
        "id": "input-example"
      },
      "outputs": [],
      "source": [
        "# ▶️ Halimbawa\n",
        "pangalan = input(\"Ano ang pangalan mo? \")\n",
        "print(\"Kumusta,\", pangalan + \"!\")"
      ]
    },
    {
      "cell_type": "markdown",
      "id": "input-string",
      "metadata": {
        "id": "input-string"
      },
      "source": [
        "### Pag-convert ng Input\n",
        "\n",
        "📝 **Importante:** Ang `input()` function ay palaging nagbabalik ng **string**, kahit pa numero ang in-input ng user.\n",
        "\n",
        "Kung ang gusto mong gamiting input ay numero (para sa mga calculations), kailangan itong i-convert gamit ang `int()` o `float()`:"
      ]
    },
    {
      "cell_type": "code",
      "execution_count": null,
      "id": "input-convert-example",
      "metadata": {
        "id": "input-convert-example"
      },
      "outputs": [],
      "source": [
        "# ▶️ Pag-convert ng input para sa kalkulasyon\n",
        "\n",
        "# Pag-input ng edad (string)\n",
        "edad_string = input(\"Ilang taon ka na? \")\n",
        "print(\"Ang iyong edad (string):\", edad_string)\n",
        "print(\"Uri ng datos:\", type(edad_string))\n",
        "\n",
        "# Subukan nating magdagdag ng 1 sa edad_string\n",
        "# Magkakaroon ito ng error dahil hindi pwedeng idagdag ang numero sa string\n",
        "# print(\"Sa susunod na taon, magiging\", edad_string + 1, \"ka na!\")  # Error!\n",
        "\n",
        "# I-convert muna ang string sa integer\n",
        "edad_int = int(edad_string)\n",
        "print(\"\\nAng iyong edad (integer):\", edad_int)\n",
        "print(\"Uri ng datos:\", type(edad_int))\n",
        "\n",
        "# Ngayon pwede na nating gamitin sa calculations\n",
        "print(\"Sa susunod na taon, magiging\", edad_int + 1, \"ka na!\")"
      ]
    },
    {
      "cell_type": "markdown",
      "id": "input-shortcut",
      "metadata": {
        "id": "input-shortcut"
      },
      "source": [
        "### Shortcut: Direktang Kumbersiyon\n",
        "\n",
        "Maaring pagsamahin ang `input()` at conversion sa iisang linya:"
      ]
    },
    {
      "cell_type": "code",
      "execution_count": null,
      "id": "input-shortcut-example",
      "metadata": {
        "id": "input-shortcut-example"
      },
      "outputs": [],
      "source": [
        "# ▶️ Direktang kumbersiyon ng input\n",
        "\n",
        "# Integer input\n",
        "edad = int(input(\"Ilang taon ka na? \"))\n",
        "print(\"Sa susunod na taon, magiging\", edad + 1, \"ka na.\")\n",
        "\n",
        "# Float input\n",
        "tangkad = float(input(\"\\nIlang metro ang tangkad mo? (hal. 1.65)? \"))\n",
        "print(\"Ang height mo sa centimeter ay\", tangkad * 100, \"cm.\")"
      ]
    },
    {
      "cell_type": "markdown",
      "id": "input-error-handling",
      "metadata": {
        "id": "input-error-handling"
      },
      "source": [
        "⚠️ **Paalala:** Kung nag-convert ka ng input sa `int` o `float`, pero ang user ay nag-input ng hindi numero (halimbawa, \"abc\"), magkakaroon ng error ang program. Sa advanced na Python, pag-aaralan natin kung paano i-handle ang ganitong mga error."
      ]
    },
    {
      "cell_type": "markdown",
      "id": "input-exercise",
      "metadata": {
        "id": "input-exercise"
      },
      "source": [
        "### 💪 Subukan mo!\n",
        "\n",
        "Gumawa ng simple na calculator na:\n",
        "1. Humihingi ng dalawang numero mula sa user\n",
        "2. Nagkakalkula ng sum (addition), difference (subtraction), product (multiplication), at quotient (division) ng dalawang numero\n",
        "3. Nagpi-print ng lahat ng resulta"
      ]
    },
    {
      "cell_type": "code",
      "execution_count": null,
      "id": "calculator-input-exercise",
      "metadata": {
        "id": "calculator-input-exercise"
      },
      "outputs": [],
      "source": [
        "# 💪 Simple calculator exercise\n",
        "# I-type ang iyong code dito:\n"
      ]
    },
    {
      "cell_type": "markdown",
      "id": "debugging-section",
      "metadata": {
        "id": "debugging-section"
      },
      "source": [
        "## 6. Pag-debug ng Karaniwang Error\n",
        "\n",
        "📝 **Ano ang debugging?**  \n",
        "Ang debugging ay ang proseso ng paghahanap at pag-aayos ng mga error o bug sa iyong code.\n",
        "\n",
        "📝 **Bakit ito mahalaga?**  \n",
        "Walang perpektong code sa unang subok. Mahalaga ang skill na ito upang mas mabilis maayos ang mga problema sa program.\n",
        "\n",
        "### Mga Karaniwang Uri ng Error\n",
        "\n",
        "1. **Syntax Error** - Mali ang grammar o structure ng code\n",
        "2. **Type Error** - Mali ang uri ng datos na ginamit (hal. pag-add ng string at number)\n",
        "3. **Name Error** - Ginamit ang isang variable na hindi pa na-define\n",
        "4. **Logic Error** - Tumatakbo ang code pero hindi tama ang resulta"
      ]
    },
    {
      "cell_type": "code",
      "execution_count": null,
      "id": "syntax-error-example",
      "metadata": {
        "id": "syntax-error-example"
      },
      "outputs": [],
      "source": [
        "# ▶️ Halimbawa ng SYNTAX ERROR\n",
        "# Pansinin ang maling spelling ng \"print\"\n",
        "\n",
        "# pritn(\"Astig!\")  # TYPO!\n",
        "\n",
        "# Kapag in-uncomment mo ang code sa itaas, makakakita ka ng error message\n",
        "# Paano ayusin: Palitan ang \"pritn\" ng \"print\"\n",
        "\n",
        "print(\"Astig!\")  # Tamang spelling"
      ]
    },
    {
      "cell_type": "code",
      "execution_count": null,
      "id": "type-error-example",
      "metadata": {
        "id": "type-error-example"
      },
      "outputs": [],
      "source": [
        "# ▶️ Halimbawa ng TYPE ERROR\n",
        "# Pag-add ng string at number\n",
        "\n",
        "edad = 15\n",
        "# print(\"Ako ay \" + age + \" taong gulang.\")  # Error!\n",
        "\n",
        "# Paano ayusin: I-convert ang number sa string\n",
        "print(\"Ako ay \" + str(edad) + \" taong gulang.\")  # Tama"
      ]
    },
    {
      "cell_type": "code",
      "execution_count": null,
      "id": "name-error-example",
      "metadata": {
        "id": "name-error-example"
      },
      "outputs": [],
      "source": [
        "# ▶️ Halimbawa ng NAME ERROR\n",
        "# Pag-gamit ng hindi pa na-define na variable\n",
        "\n",
        "# print(\"Ang iskor ay:\", iskor)  # Error! Hindi pa na-define ang 'score'\n",
        "\n",
        "# Paano ayusin: I-define muna ang variable\n",
        "iskor = 100\n",
        "print(\"Ang iskor ay:\", iskor)  # Tama"
      ]
    },
    {
      "cell_type": "markdown",
      "id": "debug-tips",
      "metadata": {
        "id": "debug-tips"
      },
      "source": [
        "### Mga Tips sa Pag-debug\n",
        "\n",
        "1. **Basahin ang error message** - Makikita mo rito kung anong klaseng error at kung saan nangyari\n",
        "2. **Gumamit ng Print statements** - Magdagdag ng `print()` statements para makita ang values ng variables\n",
        "3. **Divide and conquer** - Hatiin ang complex na code sa mas maliliit na bahagi at i-test isa-isa\n",
        "4. **Comment out** - I-comment muna ang parts ng code na hindi gumagana para ma-isolate ang problema"
      ]
    },
    {
      "cell_type": "markdown",
      "id": "debug-exercise",
      "metadata": {
        "id": "debug-exercise"
      },
      "source": [
        "### 💪 Ehersisyo sa Pagdedebug\n",
        "\n",
        "Ang sumusunod na code ay may mga error. Subukang ayusin ito para gumana nang tama."
      ]
    },
    {
      "cell_type": "code",
      "execution_count": null,
      "id": "debug-exercise-code",
      "metadata": {
        "id": "debug-exercise-code"
      },
      "outputs": [],
      "source": [
        "# 💪 Ayusin ang mga error sa code na ito\n",
        "\n",
        "# edad = itn(input(\"Ilang taon ka na? \"))  # May error\n",
        "# print(\"Grabe!\", edad, \"ka na pala!\")  # Missing quotation mark\n",
        "\n",
        "# Isulat ang tamang code sa ibaba:\n"
      ]
    },
    {
      "cell_type": "markdown",
      "id": "if-else-section",
      "metadata": {
        "id": "if-else-section"
      },
      "source": [
        "## 7. Conditional Statements (if-else)\n",
        "\n",
        "📝 **Ano ito?**  \n",
        "Ang mga conditional statements ay ginagamit upang gumawa ng desisyon sa isang program batay sa isang kondisyon. Ginagamit natin ang `if`, `elif` (else if), at `else` statements para dito.\n",
        "\n",
        "📝 **Bakit ito mahalaga?**  \n",
        "Pinahihintulutan nito ang program na magbago ng daloy depende sa input o estado, kaya mas nagiging matalino at kapaki-pakinabang ang ating code.\n",
        "\n",
        "### Bago tayo mag-if, alamin muna natin ang Boolean at Comparison Operators\n",
        "\n",
        "#### Boolean Values\n",
        "Ang mga boolean expression ay may dalawang posibleng value lang: `True` o `False`.\n",
        "\n",
        "#### Comparison Operators\n",
        "Ginagamit natin ang mga comparison operators para magkumpara ng values:\n",
        "\n",
        "| Operator | Ibig Sabihin | Halimbawa | Resulta |\n",
        "| :---: | :--- | :--- | :--- |\n",
        "| `==` | Equal to (kapareho) | `5 == 5` | `True` |\n",
        "| `!=` | Not equal to (hindi kapareho) | `5 != 3` | `True` |\n",
        "| `>` | Greater than (mas malaki sa) | `5 > 3` | `True` |\n",
        "| `<` | Less than (mas maliit sa) | `5 < 10` | `True` |\n",
        "| `>=` | Greater than or equal to (mas malaki o kapareho ng) | `5 >= 5` | `True` |\n",
        "| `<=` | Less than or equal to (mas maliit o kapareho ng)| `5 <= 3` | `False` |"
      ]
    },
    {
      "cell_type": "code",
      "execution_count": null,
      "id": "comparison-example",
      "metadata": {
        "id": "comparison-example"
      },
      "outputs": [],
      "source": [
        "# ▶️ Mga halimbawa ng comparison operators\n",
        "\n",
        "a = 5\n",
        "b = 10\n",
        "\n",
        "print(\"a =\", a, \"at b =\", b)\n",
        "print(\"a == b?\", a == b)  # False\n",
        "print(\"a != b?\", a != b)  # True\n",
        "print(\"a > b?\", a > b)    # False\n",
        "print(\"a < b?\", a < b)    # True\n",
        "print(\"a >= b?\", a >= b)  # False\n",
        "print(\"a <= b?\", a <= b)  # True"
      ]
    },
    {
      "cell_type": "markdown",
      "id": "if-statement",
      "metadata": {
        "id": "if-statement"
      },
      "source": [
        "### if Statement\n",
        "\n",
        "Ang basic syntax ng `if` statement ay:\n",
        "\n",
        "```python\n",
        "if condition:\n",
        "    # code na tatakbo KUNG ang condition ay True\n",
        "```\n",
        "\n",
        "**Importante:** Ang indentation (spaces or tabs) ay napakaimportante sa Python. Ang code na naka-indent sa ilalim ng `if` ay tatakbo lang kung True ang condition."
      ]
    },
    {
      "cell_type": "code",
      "execution_count": null,
      "id": "if-example",
      "metadata": {
        "id": "if-example"
      },
      "outputs": [],
      "source": [
        "# ▶️ Basic if statement\n",
        "\n",
        "age = 17\n",
        "\n",
        "if age >= 18:\n",
        "    print(\"Ikaw ay adult na.\")\n",
        "    print(\"Pwede ka nang bumoto.\")\n",
        "\n",
        "print(\"End of program.\")"
      ]
    },
    {
      "cell_type": "markdown",
      "id": "if-else-explanation",
      "metadata": {
        "id": "if-else-explanation"
      },
      "source": [
        "### if-else Statement\n",
        "\n",
        "Kung gusto mong gumawa ng alternatibong action kapag False ang condition, gamitin ang `else` statement:\n",
        "\n",
        "```python\n",
        "if condition:\n",
        "    # code na tatakbo kung ang condition ay True\n",
        "else:\n",
        "    # code na tatakbo kung ang condition ay False\n",
        "```"
      ]
    },
    {
      "cell_type": "code",
      "execution_count": null,
      "id": "if-else-example",
      "metadata": {
        "id": "if-else-example"
      },
      "outputs": [],
      "source": [
        "# ▶️ if-else statement\n",
        "\n",
        "age = 16\n",
        "\n",
        "if age >= 18:\n",
        "    print(\"Ikaw ay adult na.\")\n",
        "    print(\"Pwede ka nang bumoto.\")\n",
        "else:\n",
        "    print(\"Ikaw ay minor pa.\")\n",
        "    print(\"Hindi ka pa pwedeng bumoto.\")\n",
        "\n",
        "print(\"End of program.\")"
      ]
    },
    {
      "cell_type": "markdown",
      "id": "if-elif-else",
      "metadata": {
        "id": "if-elif-else"
      },
      "source": [
        "### if-elif-else Statement\n",
        "\n",
        "Kung maraming possible conditions, pwede mong gamitin ang `elif` (short for \"else if\"):\n",
        "\n",
        "```python\n",
        "if condition1:\n",
        "    # code na tatakbo kung ang condition1 ay True\n",
        "elif condition2:\n",
        "    # code na tatakbo kung ang condition1 ay False pero ang condition2 ay True\n",
        "elif condition3:\n",
        "    # code na tatakbo kung ang condition1 at condition2 ay False pero ang condition3 ay True\n",
        "else:\n",
        "    # code na tatakbo kung lahat ng conditions ay False\n",
        "```"
      ]
    },
    {
      "cell_type": "code",
      "execution_count": null,
      "id": "if-elif-else-example",
      "metadata": {
        "id": "if-elif-else-example"
      },
      "outputs": [],
      "source": [
        "# ▶️ if-elif-else statement\n",
        "\n",
        "grade = 85\n",
        "\n",
        "if grade >= 90:\n",
        "    print(\"Excellent! You got an A\")\n",
        "elif grade >= 80:\n",
        "    print(\"Great job! You got a B\")\n",
        "elif grade >= 75:\n",
        "    print(\"You passed with a C\")\n",
        "else:\n",
        "    print(\"You need to improve. You got a D\")"
      ]
    },
    {
      "cell_type": "markdown",
      "id": "logical-operators",
      "metadata": {
        "id": "logical-operators"
      },
      "source": [
        "### Logical Operators\n",
        "\n",
        "Kung gusto mong pagsamahin ang multiple conditions, pwede mong gamitin ang logical operators:\n",
        "\n",
        "| Operator | Ibig Sabihin | Halimbawa |\n",
        "| :---: | :--- | :--- |\n",
        "| `and` | True kung parehas True ang conditions | `a > 5 and b < 10` |\n",
        "| `or` | True kung kahit isa sa conditions ay True | `a > 5 or b < 10` |\n",
        "| `not` | Nire-reverse ang value ng condition | `not (a > 5)` |"
      ]
    },
    {
      "cell_type": "code",
      "execution_count": null,
      "id": "logical-operators-example",
      "metadata": {
        "id": "logical-operators-example"
      },
      "outputs": [],
      "source": [
        "# ▶️ Logical operators\n",
        "\n",
        "age = 16\n",
        "has_id = True\n",
        "\n",
        "# Using 'and'\n",
        "if age >= 18 and has_id:\n",
        "    print(\"Pwede kang bumoto at kumuha ng driver's license.\")\n",
        "\n",
        "# Using 'or'\n",
        "if age >= 18 or has_id:\n",
        "    print(\"Pwede kang pumasok sa establishment (either adult ka o may valid ID).\")\n",
        "\n",
        "# Using 'not'\n",
        "if not has_id:\n",
        "    print(\"Kailangan mong kumuha ng ID.\")\n",
        "else:\n",
        "    print(\"May ID ka na.\")"
      ]
    },
    {
      "cell_type": "markdown",
      "id": "nested-if",
      "metadata": {
        "id": "nested-if"
      },
      "source": [
        "### Nested if Statements\n",
        "\n",
        "Pwede ring maglagay ng if statement sa loob ng ibang if statement:"
      ]
    },
    {
      "cell_type": "code",
      "execution_count": null,
      "id": "nested-if-example",
      "metadata": {
        "id": "nested-if-example"
      },
      "outputs": [],
      "source": [
        "# ▶️ Nested if statements\n",
        "\n",
        "age = 16\n",
        "with_parent = True\n",
        "\n",
        "if age >= 18:\n",
        "    print(\"Pwede kang manood ng R-rated movie.\")\n",
        "else:\n",
        "    print(\"Hindi ka pa pwedeng manood ng R-rated movie mag-isa.\")\n",
        "    if with_parent:\n",
        "        print(\"Pero pwede kang manood kasama ang magulang mo.\")\n",
        "    else:\n",
        "        print(\"Pumili ka ng ibang movie na angkop sa edad mo.\")"
      ]
    },
    {
      "cell_type": "markdown",
      "id": "if-else-exercise",
      "metadata": {
        "id": "if-else-exercise"
      },
      "source": [
        "### 💪 If-Else Exercise\n",
        "\n",
        "Gumawa ng simple na program na nagche-check kung ang isang numero ay:\n",
        "1. Positive, negative, o zero\n",
        "2. Even o odd (kung hindi zero)\n",
        "\n",
        "Halimbawa:\n",
        "- Kung ang input ay 5, ang output ay: \"5 is a positive and odd number.\"\n",
        "- Kung ang input ay -4, ang output ay: \"-4 is a negative and even number.\"\n",
        "- Kung ang input ay 0, ang output ay: \"The number is zero.\""
      ]
    },
    {
      "cell_type": "code",
      "execution_count": null,
      "id": "if-else-exercise-code",
      "metadata": {
        "id": "if-else-exercise-code"
      },
      "outputs": [],
      "source": [
        "# 💪 Number classifier exercise\n",
        "# I-type ang iyong code dito:\n"
      ]
    },
    {
      "cell_type": "markdown",
      "id": "if-else-guess-game",
      "metadata": {
        "id": "if-else-guess-game"
      },
      "source": [
        "### Mini-Game: Guess the Number\n",
        "\n",
        "Sa sumusunod na example, gagawa tayo ng simple na \"Guess the Number\" game gamit ang `if-else` statements:"
      ]
    },
    {
      "cell_type": "code",
      "execution_count": null,
      "id": "guess-game-example",
      "metadata": {
        "id": "guess-game-example"
      },
      "outputs": [],
      "source": [
        "# ▶️ Guess the Number Game\n",
        "\n",
        "# Set the secret number\n",
        "secret_number = 7\n",
        "\n",
        "# Ask for the user's guess\n",
        "guess = int(input(\"Hulaan mo ang numero ko (1-10): \"))\n",
        "\n",
        "# Check if the guess is correct\n",
        "if guess == secret_number:\n",
        "    print(\"Tama! Ang secret number ay\", secret_number)\n",
        "    print(\"Congratulations!\")\n",
        "elif guess < secret_number:\n",
        "    print(\"Masyado mababa ang hula mo. Subukan mo ulit!\")\n",
        "else:  # guess > secret_number\n",
        "    print(\"Masyado mataas ang hula mo. Subukan mo ulit!\")"
      ]
    },
    {
      "cell_type": "markdown",
      "id": "for-loops-section",
      "metadata": {
        "id": "for-loops-section"
      },
      "source": [
        "## 8. For Loops\n",
        "\n",
        "📝 **Ano ang For Loop?**  \n",
        "Ginagamit ang mga for loops para ulitin ang isang hanay ng mga aksyon para sa bawat item sa isang koleksyon (tulad ng list, string, o range).\n",
        "\n",
        "📝 **Bakit ito mahalaga?**  \n",
        "Kapag ilang beses mong kailangang gawin ang isang aksyon, ang for loop ang pinakamadaling paraan. Mas malinis rin tignan ang code dahil hindi paulit-ulit ang syntax na kinakailangan."
      ]
    },
    {
      "cell_type": "code",
      "execution_count": null,
      "id": "for-loops-example",
      "metadata": {
        "id": "for-loops-example"
      },
      "outputs": [],
      "source": [
        "# ▶️ Basic for loop\n",
        "\n",
        "# Loop through a list\n",
        "print(\"Mga prutas:\")\n",
        "for prutas in [\"mansanas\", \"saging\", \"pakwan\"]:\n",
        "    print(\"- Gusto ko ang\", prutas)\n",
        "\n",
        "# Loop using range()\n",
        "print(\"\\nCounting from 1 to 5:\")\n",
        "for i in range(1, 6):  # 1, 2, 3, 4, 5\n",
        "    print(i)\n",
        "\n",
        "# Loop through a string\n",
        "print(\"\\nSpelling ng 'PYTHON':\")\n",
        "for letra in \"PYTHON\":\n",
        "    print(letra)\n",
        "\n",
        "# Loop with enumeration (to get index and value)\n",
        "print(\"\\nFruits with indices:\")\n",
        "fruits = [\"apple\", \"banana\", \"cherry\"]\n",
        "for index, fruit in enumerate(fruits):\n",
        "    print(f\"{index}: {fruit}\")"
      ]
    },
    {
      "cell_type": "markdown",
      "id": "for-loop-tasks",
      "metadata": {
        "id": "for-loop-tasks"
      },
      "source": [
        "### 💪 For Loop Exercise\n",
        "\n",
        "Gumawa ng program na:\n",
        "1. May list ng 5 subjects (Math, Science, English, Filipino, PE)\n",
        "2. May list ng corresponding grades mo sa bawat subject (halimbawa: 90, 85, 88, 92, 95)\n",
        "3. Gamit ang for loop, i-print ang bawat subject at grade\n",
        "4. Kalkulahin at i-print ang average ng lahat ng grades"
      ]
    },
    {
      "cell_type": "code",
      "execution_count": null,
      "id": "for-loop-exercise",
      "metadata": {
        "id": "for-loop-exercise"
      },
      "outputs": [],
      "source": [
        "# 💪 Subjects and grades exercise\n",
        "# I-type ang iyong code dito:\n"
      ]
    },
    {
      "cell_type": "markdown",
      "id": "recap-section",
      "metadata": {
        "id": "recap-section"
      },
      "source": [
        "## 9. Recap\n",
        "\n",
        "Natutunan natin sa notebook na ito ang mga sumusunod:\n",
        "\n",
        "1. **Pag-print ng mensahe** - gamit ang `print()` function\n",
        "2. **Mga operator** - mathematical (`+`, `-`, `*`, `/`, `//`, `%`, `**`) at comparison (`==`, `!=`, `>`, `<`, `>=`, `<=`)\n",
        "3. **Mga uri ng datos** - int, float, string, boolean\n",
        "4. **Mga variable** - paglikha at pag-update ng mga lalagyan ng datos\n",
        "5. **Pagkuha ng input** - gamit ang `input()` function at pag-convert nito sa iba't ibang uri ng datos\n",
        "6. **Pag-debug** - paghahanap at pag-aayos ng mga karaniwang error\n",
        "7. **Conditional statements** - paggamit ng `if`, `elif`, at `else` para gumawa ng mga desisyon sa program\n",
        "8. **For loops** - pag-iterate sa mga koleksyon ng data\n",
        "\n",
        "Ang mga konseptong ito ang pundasyon ng Python programming. Gamit ang mga ito, kaya mo nang gumawa ng mga simpleng interactive na program!"
      ]
    },
    {
      "cell_type": "markdown",
      "id": "extra-credit-section",
      "metadata": {
        "id": "extra-credit-section"
      },
      "source": [
        "## 10. Extra Credit (Opsyonal)\n",
        "\n",
        "Kung gusto mo pang matuto ng higit, narito ang ilang advanced na concepts na makakatulong sa iyo sa susunod na notebook."
      ]
    },
    {
      "cell_type": "markdown",
      "id": "lists-section",
      "metadata": {
        "id": "lists-section"
      },
      "source": [
        "### 10.1 Lists\n",
        "\n",
        "📝 **Ano ang List?**  \n",
        "Ang list ay isang koleksyon ng datos na may sinusunod na kaayusan. Para makagawa nito, ilalagay mo ang mga datos sa loob ng square brackets (`[]`), na pinaghihiwalay ng comma.\n",
        "\n",
        "📝 **Bakit ito mahalaga?**  \n",
        "Sa halip na gumawa ng maraming variable para sa bawat piraso ng data, maaaring gamitin ang list upang mag-ayos at magproseso ng data nang mas epektibo."
      ]
    },
    {
      "cell_type": "code",
      "execution_count": null,
      "id": "lists-example",
      "metadata": {
        "id": "lists-example"
      },
      "outputs": [],
      "source": [
        "# ▶️ Creating and using lists\n",
        "\n",
        "# Create a list of fruits\n",
        "prutas = [\"mansanas\", \"saging\", \"pakwan\", \"ubas\"]\n",
        "print(\"List ng mga prutas:\", prutas)\n",
        "\n",
        "# Accessing elements by index (starts at 0)\n",
        "print(\"\\nUnang prutas:\", prutas[0])  # mansanas\n",
        "print(\"Pangalawang prutas:\", prutas[1])  # saging\n",
        "print(\"Huling prutas:\", prutas[3])  # ubas\n",
        "\n",
        "# Negative indexing (counts from the end)\n",
        "print(\"\\nHuling prutas gamit negative index:\", prutas[-1])  # ubas\n",
        "print(\"Pangalawa sa huling prutas:\", prutas[-2])  # pakwan\n",
        "\n",
        "# List length\n",
        "print(\"\\nDami ng mga prutas:\", len(prutas))  # 4\n",
        "\n",
        "# Modifying lists\n",
        "print(\"\\nOriginal list:\", prutas)\n",
        "\n",
        "# Add an item to the end\n",
        "prutas.append(\"mangga\")\n",
        "print(\"After append:\", prutas)\n",
        "\n",
        "# Insert at specific position\n",
        "prutas.insert(1, \"pinya\")\n",
        "print(\"After insert:\", prutas)\n",
        "\n",
        "# Remove an item\n",
        "prutas.remove(\"pakwan\")\n",
        "print(\"After remove:\", prutas)\n",
        "\n",
        "# Pop (remove and return) an item by index\n",
        "popped_fruit = prutas.pop(2)\n",
        "print(\"Popped fruit:\", popped_fruit)\n",
        "print(\"After pop:\", prutas)"
      ]
    },
    {
      "cell_type": "markdown",
      "id": "self-check-section",
      "metadata": {
        "id": "self-check-section"
      },
      "source": [
        "## 11. Self-Check\n",
        "\n",
        "Narito ang ilang tanong para suriin kung naintindihan mo ang mga natutunan natin. Subukang sagutin ang mga ito:\n",
        "\n",
        "### Task 1: Basic Printing\n",
        "Gumawa ng code na mag-print ng \"Hello, [pangalan mo]! Welcome to Python programming.\""
      ]
    },
    {
      "cell_type": "code",
      "execution_count": null,
      "id": "self-check-task1",
      "metadata": {
        "id": "self-check-task1"
      },
      "outputs": [],
      "source": [
        "# Task 1: Your code here\n"
      ]
    },
    {
      "cell_type": "markdown",
      "id": "self-check-task2",
      "metadata": {
        "id": "self-check-task2"
      },
      "source": [
        "### Task 2: Variables and Calculations\n",
        "Gumawa ng code na:\n",
        "1. Nagdedeklara ng variable na `length` at `width` para sa dimensions ng rectangle\n",
        "2. Nagkakalkula at nagpi-print ng area at perimeter ng rectangle"
      ]
    },
    {
      "cell_type": "code",
      "execution_count": null,
      "id": "self-check-task2-code",
      "metadata": {
        "id": "self-check-task2-code"
      },
      "outputs": [],
      "source": [
        "# Task 2: Your code here\n"
      ]
    },
    {
      "cell_type": "markdown",
      "id": "self-check-task3",
      "metadata": {
        "id": "self-check-task3"
      },
      "source": [
        "### Task 3: User Input and Conditional Statements\n",
        "Gumawa ng simple na program na:\n",
        "1. Humihingi ng temperature sa Celsius\n",
        "2. I-convert ito sa Fahrenheit (formula: F = C * 9/5 + 32)\n",
        "3. Base sa Fahrenheit temperature, mag-print ng message:\n",
        "   - Kung less than 32°F: \"Freezing weather!\"\n",
        "   - Kung 32°F hanggang 50°F: \"Cold weather\"\n",
        "   - Kung 51°F hanggang 70°F: \"Mild weather\"\n",
        "   - Kung 71°F hanggang 90°F: \"Warm weather\"\n",
        "   - Kung above 90°F: \"Hot weather!\""
      ]
    },
    {
      "cell_type": "code",
      "execution_count": null,
      "id": "self-check-task3-code",
      "metadata": {
        "id": "self-check-task3-code"
      },
      "outputs": [],
      "source": [
        "# Task 3: Your code here\n"
      ]
    },
    {
      "cell_type": "markdown",
      "id": "cheat-sheet",
      "metadata": {
        "id": "cheat-sheet"
      },
      "source": [
        "## 12. Quick Reference Cheat Sheet\n",
        "\n",
        "| Operation | Syntax | Example |\n",
        "|-----------|--------|--------|\n",
        "| Print | `print(value)` | `print(\"Hello\")` |\n",
        "| Variables | `name = value` | `age = 15` |\n",
        "| Input | `input(prompt)` | `name = input(\"Enter name: \")` |\n",
        "| Convert to int | `int(value)` | `age = int(\"15\")` |\n",
        "| Convert to float | `float(value)` | `height = float(\"1.75\")` |\n",
        "| Convert to string | `str(value)` | `age_str = str(15)` |\n",
        "| If statement | `if condition:` | `if age >= 18:` |\n",
        "| If-else | `if condition: ... else:` | `if score >= 75: ... else:` |\n",
        "| For loop | `for item in collection:` | `for i in range(5):` |\n",
        "| List | `[item1, item2, ...]` | `fruits = [\"apple\", \"banana\"]` |\n",
        "| Add to list | `list.append(item)` | `fruits.append(\"cherry\")` |"
      ]
    },
    {
      "cell_type": "markdown",
      "id": "closing-message",
      "metadata": {
        "id": "closing-message"
      },
      "source": [
        "## 13. Pangwakas na Mensahe\n",
        "\n",
        "Congratulations! 🎉 Natapos mo na ang unang notebook ng PyTalino Python Guide.\n",
        "\n",
        "Ngayon, may sapat ka nang kaalaman para subukan ang mas challenging na project. Buksan ang **Notebook 01 - \"Quiz Maker\"** para magsimula sa paggawa ng iyong sariling quiz application.\n",
        "\n",
        "Kung may mga tanong o suggestions ka, huwag mag-atubiling i-contact kami o mag-leave ng comment sa feedback form.\n",
        "\n",
        "Happy coding! 👨‍💻👩‍💻"
      ]
    }
  ],
  "metadata": {
    "language_info": {
      "name": "python"
    },
    "colab": {
      "provenance": []
    }
  },
  "nbformat": 4,
  "nbformat_minor": 5
}
