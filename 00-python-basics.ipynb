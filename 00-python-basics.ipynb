{
 "cells": [
  {
   "cell_type": "markdown",
   "id": "f3457613",
   "metadata": {},
   "source": [
    "# 00-python-basics.ipynb  \n",
    "**Bersyon 1.0 – Abril 2025**  \n",
    "*Pag-set-up at Mga Batayang Konsepto*"
   ]
  },
  {
   "cell_type": "markdown",
   "id": "37827a6b",
   "metadata": {},
   "source": [
    "[![Open in Colab](https://colab.research.google.com/assets/colab-badge.svg)](https://colab.research.google.com/github/gkmbitancur/PyTalino/blob/main/00-python-basics.ipynb?copy=true)  \n",
    "[![Launch in Binder](https://mybinder.org/badge_logo.svg)](https://mybinder.org/v2/gh/gkmbitancur/PyTalino/main?filepath=00-python-basics.ipynb)"
   ]
  },
  {
   "cell_type": "code",
   "execution_count": null,
   "id": "a299935b",
   "metadata": {
    "vscode": {
     "languageId": "plaintext"
    }
   },
   "outputs": [],
   "source": [
    "# Simple test cell\n",
    "print(\"✅ 00-python-basics.ipynb loaded successfully!\")"
   ]
  },
  {
   "cell_type": "markdown",
   "id": "b10d7d34",
   "metadata": {},
   "source": [
    "## Mga Pangunahing Konsepto  \n",
    "(Dito ilalagay ang sections ng variable, loops, atbp.)"
   ]
  }
 ],
 "metadata": {
  "language_info": {
   "name": "python"
  }
 },
 "nbformat": 4,
 "nbformat_minor": 5
}
